{
 "cells": [
  {
   "cell_type": "code",
   "execution_count": 1,
   "metadata": {},
   "outputs": [
    {
     "name": "stderr",
     "output_type": "stream",
     "text": [
      "/anaconda3/lib/python3.7/site-packages/sklearn/ensemble/weight_boosting.py:29: DeprecationWarning: numpy.core.umath_tests is an internal NumPy module and should not be imported. It will be removed in a future NumPy release.\n",
      "  from numpy.core.umath_tests import inner1d\n",
      "[nltk_data] Downloading package stopwords to\n",
      "[nltk_data]     /Users/hilmijohari/nltk_data...\n",
      "[nltk_data]   Package stopwords is already up-to-date!\n",
      "[nltk_data] Downloading package wordnet to\n",
      "[nltk_data]     /Users/hilmijohari/nltk_data...\n",
      "[nltk_data]   Package wordnet is already up-to-date!\n"
     ]
    }
   ],
   "source": [
    "# packages to import\n",
    "\n",
    "import pandas as pd\n",
    "import numpy as np\n",
    "import matplotlib.pyplot as plt\n",
    "\n",
    "from fastai import *\n",
    "from fastai.vision import * \n",
    "from torchvision.models import *\n",
    "\n",
    "from sklearn.model_selection import train_test_split\n",
    "from sklearn.feature_extraction.text import CountVectorizer, TfidfVectorizer\n",
    "from sklearn.model_selection import GridSearchCV\n",
    "from sklearn.model_selection import cross_val_score\n",
    "\n",
    "\n",
    "from sklearn.ensemble import RandomForestClassifier\n",
    "from sklearn.model_selection import cross_val_score\n",
    "\n",
    "from sklearn.model_selection import KFold\n",
    "from sklearn.metrics import r2_score\n",
    "\n",
    "\n",
    "from imblearn.over_sampling import SMOTE\n",
    "\n",
    "from sklearn.ensemble import RandomForestClassifier\n",
    "from sklearn.neighbors import KNeighborsClassifier\n",
    "from sklearn.linear_model import LogisticRegression\n",
    "from sklearn.metrics import confusion_matrix\n",
    "from sklearn.tree import DecisionTreeClassifier\n",
    "from sklearn.ensemble import AdaBoostClassifier\n",
    "\n",
    "from scipy import stats\n",
    "from scipy.stats import skew\n",
    "\n",
    "import nltk\n",
    "from gensim import corpora, models, matutils\n",
    "nltk.download('stopwords')\n",
    "from nltk.corpus import stopwords\n",
    "nltk.download('wordnet')\n",
    "from nltk.stem import WordNetLemmatizer\n",
    "\n",
    "\n",
    "import urllib, requests, re\n",
    "from time import sleep\n",
    "\n",
    "pd.set_option('max_colwidth',500)\n"
   ]
  },
  {
   "cell_type": "code",
   "execution_count": 2,
   "metadata": {},
   "outputs": [],
   "source": [
    "# loading the csv files into pandas dataframes\n",
    "\n",
    "df_train_mass = pd.read_csv('mass_case_description_train_set.csv')\n",
    "df_test_mass = pd.read_csv('mass_case_description_test_set.csv')\n",
    "\n",
    "df_train_calc = pd.read_csv('calc_case_description_train_set.csv')\n",
    "df_test_calc = pd.read_csv('calc_case_description_test_set.csv')\n",
    "\n",
    "test_labels_multi = pd.read_csv('./input/test_labels_multi_2.csv')\n",
    "train_labels_multi = pd.read_csv('./input/train_labels_multi.csv')"
   ]
  },
  {
   "cell_type": "code",
   "execution_count": 3,
   "metadata": {},
   "outputs": [],
   "source": [
    "# remove the useless columns\n",
    "\n",
    "df_train_calc.drop(columns = ['image file path',\n",
    "       'cropped image file path', 'ROI mask file path','patient_id', 'image view', 'abnormality id','abnormality type','left or right breast'], inplace = True)\n",
    "df_test_calc.drop(columns = ['image file path',\n",
    "       'cropped image file path', 'ROI mask file path','patient_id', 'image view', 'abnormality id','abnormality type', 'left or right breast'], inplace = True)\n"
   ]
  },
  {
   "cell_type": "code",
   "execution_count": 4,
   "metadata": {},
   "outputs": [],
   "source": [
    "labels = pd.concat([train_labels_multi, test_labels_multi])"
   ]
  },
  {
   "cell_type": "code",
   "execution_count": 5,
   "metadata": {},
   "outputs": [],
   "source": [
    "labels.reset_index(drop = True, inplace = True)"
   ]
  },
  {
   "cell_type": "code",
   "execution_count": 6,
   "metadata": {},
   "outputs": [],
   "source": [
    "train_df = pd.concat([df_train_calc,df_test_calc])\n",
    "\n",
    "train_df['pathology'].replace('MALIGNANT', 1, inplace = True)\n",
    "train_df['pathology'].replace('BENIGN_WITHOUT_CALLBACK', 0, inplace = True)\n",
    "train_df['pathology'].replace('BENIGN', 0, inplace = True)\n",
    "train_df = train_df.dropna(axis = 0)\n"
   ]
  },
  {
   "cell_type": "code",
   "execution_count": 7,
   "metadata": {},
   "outputs": [],
   "source": [
    "train_df.reset_index(drop = True, inplace = True)"
   ]
  },
  {
   "cell_type": "code",
   "execution_count": 8,
   "metadata": {},
   "outputs": [
    {
     "data": {
      "text/plain": [
       "Index(['breast density', 'calc type', 'calc distribution', 'assessment',\n",
       "       'pathology', 'subtlety'],\n",
       "      dtype='object')"
      ]
     },
     "execution_count": 8,
     "metadata": {},
     "output_type": "execute_result"
    }
   ],
   "source": [
    "train_df.columns"
   ]
  },
  {
   "cell_type": "code",
   "execution_count": null,
   "metadata": {},
   "outputs": [],
   "source": []
  },
  {
   "cell_type": "code",
   "execution_count": 9,
   "metadata": {},
   "outputs": [],
   "source": [
    "train_df['labels'] = labels['label']"
   ]
  },
  {
   "cell_type": "code",
   "execution_count": 10,
   "metadata": {},
   "outputs": [
    {
     "data": {
      "text/plain": [
       "pathology  labels   \n",
       "0          macro        201\n",
       "           amorphous    190\n",
       "           micro        185\n",
       "           vascular     163\n",
       "1          micro        191\n",
       "           vascular     168\n",
       "           amorphous    161\n",
       "           macro        150\n",
       "Name: labels, dtype: int64"
      ]
     },
     "execution_count": 10,
     "metadata": {},
     "output_type": "execute_result"
    }
   ],
   "source": [
    "train_df.groupby('pathology')['labels'].value_counts()"
   ]
  },
  {
   "cell_type": "code",
   "execution_count": 11,
   "metadata": {},
   "outputs": [
    {
     "data": {
      "text/plain": [
       "Index(['breast density', 'calc type', 'calc distribution', 'assessment',\n",
       "       'pathology', 'subtlety', 'labels'],\n",
       "      dtype='object')"
      ]
     },
     "execution_count": 11,
     "metadata": {},
     "output_type": "execute_result"
    }
   ],
   "source": [
    "train_df.columns"
   ]
  },
  {
   "cell_type": "code",
   "execution_count": 13,
   "metadata": {},
   "outputs": [],
   "source": [
    "train_df['text'] = train_df[['calc type', 'calc distribution']].apply(lambda x: ' '.join(x), axis=1)"
   ]
  },
  {
   "cell_type": "code",
   "execution_count": null,
   "metadata": {},
   "outputs": [],
   "source": []
  },
  {
   "cell_type": "code",
   "execution_count": 15,
   "metadata": {},
   "outputs": [
    {
     "data": {
      "image/png": "[encoded data removed]",
      "text/plain": [
       "<Figure size 720x720 with 1 Axes>"
      ]
     },
     "metadata": {},
     "output_type": "display_data"
    }
   ],
   "source": [
    "text = train_df[train_df['pathology'] == 0]['text'].values\n",
    "from wordcloud import WordCloud, STOPWORDS\n",
    "import matplotlib.pyplot as plt\n",
    "\n",
    "wordcloud = WordCloud(\n",
    "    width = 3000,\n",
    "    height = 2000,\n",
    "    background_color = 'black',\n",
    "    stopwords = STOPWORDS).generate(str(text))\n",
    "fig = plt.figure(\n",
    "    figsize = (10, 10),\n",
    "    facecolor = 'k',\n",
    "    edgecolor = 'k')\n",
    "plt.imshow(wordcloud, interpolation = 'bilinear')\n",
    "plt.axis('off')\n",
    "plt.tight_layout(pad=0)\n",
    "plt.show()"
   ]
  },
  {
   "cell_type": "code",
   "execution_count": 16,
   "metadata": {},
   "outputs": [
    {
     "data": {
      "image/png": "[encoded data removed]",
      "text/plain": [
       "<Figure size 720x720 with 1 Axes>"
      ]
     },
     "metadata": {},
     "output_type": "display_data"
    }
   ],
   "source": [
    "text = train_df[train_df['pathology'] == 1]['text'].values\n",
    "wordcloud = WordCloud(\n",
    "    width = 3000,\n",
    "    height = 2000,\n",
    "    background_color = 'black',\n",
    "    stopwords = STOPWORDS).generate(str(text))\n",
    "fig = plt.figure(\n",
    "    figsize = (10, 10),\n",
    "    facecolor = 'k',\n",
    "    edgecolor = 'k')\n",
    "plt.imshow(wordcloud, interpolation = 'bilinear')\n",
    "plt.axis('off')\n",
    "plt.tight_layout(pad=0)\n",
    "plt.show()"
   ]
  },
  {
   "cell_type": "code",
   "execution_count": 20,
   "metadata": {},
   "outputs": [],
   "source": [
    "train_df.drop(columns = ['text'],inplace = True)"
   ]
  },
  {
   "cell_type": "code",
   "execution_count": 21,
   "metadata": {},
   "outputs": [],
   "source": [
    "def cleaning_df(dataframe):\n",
    "    \n",
    "    for column_name in ['calc distribution', 'calc type']:\n",
    "\n",
    "        dataframe[column_name] = dataframe[column_name].apply(lambda x : x.lower())\n",
    "        \n",
    "        dataframe[column_name] =  dataframe[column_name].apply(lambda x : re.sub(r'[^a-zA-Z]', \" \", x))\n",
    "\n",
    "cleaning_df(train_df)"
   ]
  },
  {
   "cell_type": "code",
   "execution_count": 22,
   "metadata": {},
   "outputs": [],
   "source": [
    "train_df.reset_index(inplace = True, drop =True)"
   ]
  },
  {
   "cell_type": "code",
   "execution_count": 23,
   "metadata": {},
   "outputs": [],
   "source": [
    "dums = pd.get_dummies(train_df['labels'], drop_first = True)\n",
    "dums.reset_index(drop = True, inplace = True)"
   ]
  },
  {
   "cell_type": "code",
   "execution_count": 24,
   "metadata": {},
   "outputs": [],
   "source": [
    "characters_to_replace = ['assessment']\n",
    "\n",
    "stop_words = stopwords.words('english')\n",
    "stop_words += characters_to_replace"
   ]
  },
  {
   "cell_type": "code",
   "execution_count": 25,
   "metadata": {},
   "outputs": [],
   "source": [
    "vect_1 = CountVectorizer(stop_words = stop_words, min_df = 1, ngram_range = (1,3))\n",
    "d_vector = vect_1.fit_transform(train_df['calc distribution'])\n",
    "d_trans = pd.DataFrame(d_vector.todense(),columns=vect_1.get_feature_names())\n",
    "d_trans.reset_index(inplace = True, drop =True)\n",
    "train_df_2 = pd.concat([train_df, d_trans, dums], axis = 1)"
   ]
  },
  {
   "cell_type": "code",
   "execution_count": 26,
   "metadata": {},
   "outputs": [],
   "source": [
    "vect_1 = CountVectorizer(stop_words = stop_words, min_df = 1, ngram_range = (1,3))\n",
    "d_vector = vect_1.fit_transform(train_df['calc type'])\n",
    "d_trans = pd.DataFrame(d_vector.todense(),columns=vect_1.get_feature_names())\n",
    "d_trans.reset_index(inplace = True, drop =True)\n",
    "train_df_3 = pd.concat([train_df_2, d_trans], axis = 1)"
   ]
  },
  {
   "cell_type": "code",
   "execution_count": 27,
   "metadata": {},
   "outputs": [],
   "source": [
    "train_df_3.drop(columns = ['calc distribution', 'calc type', 'labels'], inplace = True)"
   ]
  },
  {
   "cell_type": "code",
   "execution_count": 28,
   "metadata": {},
   "outputs": [],
   "source": [
    "d = train_df_3[['pathology', 'assessment']]"
   ]
  },
  {
   "cell_type": "code",
   "execution_count": 29,
   "metadata": {},
   "outputs": [
    {
     "name": "stderr",
     "output_type": "stream",
     "text": [
      "/anaconda3/lib/python3.7/site-packages/scipy/stats/stats.py:1713: FutureWarning: Using a non-tuple sequence for multidimensional indexing is deprecated; use `arr[tuple(seq)]` instead of `arr[seq]`. In the future this will be interpreted as an array index, `arr[np.array(seq)]`, which will result either in an error or a different result.\n",
      "  return np.add.reduce(sorted[indexer] * weights, axis=axis) / sumval\n"
     ]
    },
    {
     "data": {
      "text/plain": [
       "<matplotlib.axes._subplots.AxesSubplot at 0x1a2d4d9550>"
      ]
     },
     "execution_count": 29,
     "metadata": {},
     "output_type": "execute_result"
    },
    {
     "data": {
      "image/png": "[encoded data removed]",
      "text/plain": [
       "<Figure size 432x288 with 1 Axes>"
      ]
     },
     "metadata": {
      "needs_background": "light"
     },
     "output_type": "display_data"
    }
   ],
   "source": [
    "import seaborn as sns\n",
    "sns.barplot(x = 'pathology', y = 'assessment', data = d)"
   ]
  },
  {
   "cell_type": "code",
   "execution_count": 30,
   "metadata": {},
   "outputs": [
    {
     "data": {
      "text/plain": [
       "<matplotlib.axes._subplots.AxesSubplot at 0x1a2d59eba8>"
      ]
     },
     "execution_count": 30,
     "metadata": {},
     "output_type": "execute_result"
    },
    {
     "data": {
      "image/png": "[encoded data removed]",
      "text/plain": [
       "<Figure size 792x648 with 2 Axes>"
      ]
     },
     "metadata": {
      "needs_background": "light"
     },
     "output_type": "display_data"
    }
   ],
   "source": [
    "import seaborn as sns\n",
    "# Compute the correlation matrix\n",
    "corr = d.corr()\n",
    "\n",
    "# Generate a mask for the upper triangle\n",
    "mask = np.zeros_like(corr, dtype=np.bool)\n",
    "mask[np.triu_indices_from(mask)] = True\n",
    "\n",
    "# Set up the matplotlib figure\n",
    "f, ax = plt.subplots(figsize=(11, 9))\n",
    "\n",
    "# Generate a custom diverging colormap\n",
    "cmap = sns.diverging_palette(220, 10, as_cmap=True)\n",
    "\n",
    "# Draw the heatmap with the mask and correct aspect ratio\n",
    "sns.heatmap(corr, mask=mask, cmap=cmap, center=0,\n",
    "            square=True, linewidths=.5, cbar_kws={\"shrink\": .5})"
   ]
  },
  {
   "cell_type": "code",
   "execution_count": 31,
   "metadata": {},
   "outputs": [
    {
     "data": {
      "text/plain": [
       "0    739\n",
       "1    670\n",
       "Name: pathology, dtype: int64"
      ]
     },
     "execution_count": 31,
     "metadata": {},
     "output_type": "execute_result"
    }
   ],
   "source": [
    "train_df_3['pathology'].value_counts()"
   ]
  },
  {
   "cell_type": "code",
   "execution_count": 32,
   "metadata": {},
   "outputs": [
    {
     "data": {
      "text/plain": [
       "fine  pathology\n",
       "0     0            718\n",
       "      1            557\n",
       "1     1            113\n",
       "      0             21\n",
       "Name: pathology, dtype: int64"
      ]
     },
     "execution_count": 32,
     "metadata": {},
     "output_type": "execute_result"
    }
   ],
   "source": [
    "train_df_3.groupby('fine')['pathology'].value_counts()"
   ]
  },
  {
   "cell_type": "code",
   "execution_count": 33,
   "metadata": {},
   "outputs": [
    {
     "data": {
      "text/plain": [
       "Index(['breast density', 'assessment', 'pathology', 'subtlety', 'clustered',\n",
       "       'clustered linear', 'clustered segmental', 'diffusely',\n",
       "       'diffusely scattered', 'linear', 'linear segmental', 'regional',\n",
       "       'regional regional', 'scattered', 'segmental', 'macro', 'micro',\n",
       "       'vascular', 'amorphous', 'amorphous pleomorphic', 'amorphous round',\n",
       "       'amorphous round regular', 'branching', 'calcium', 'center',\n",
       "       'center dystrophic', 'center punctate', 'center round',\n",
       "       'center round regular', 'centered', 'coarse', 'coarse lucent',\n",
       "       'coarse lucent center', 'coarse pleomorphic', 'dystrophic', 'eggshell',\n",
       "       'fine', 'fine linear', 'fine linear branching', 'large',\n",
       "       'large rodlike', 'large rodlike round', 'linear', 'linear branching',\n",
       "       'lucent', 'lucent center', 'lucent center dystrophic',\n",
       "       'lucent center punctate', 'lucent center round', 'lucent centered',\n",
       "       'milk', 'milk calcium', 'pleomorphic', 'pleomorphic amorphous',\n",
       "       'pleomorphic fine', 'pleomorphic fine linear',\n",
       "       'pleomorphic pleomorphic', 'punctate', 'punctate amorphous',\n",
       "       'punctate amorphous pleomorphic', 'punctate fine',\n",
       "       'punctate fine linear', 'punctate lucent', 'punctate lucent center',\n",
       "       'punctate pleomorphic', 'punctate round', 'punctate round regular',\n",
       "       'regular', 'regular lucent', 'regular lucent center',\n",
       "       'regular pleomorphic', 'regular punctate', 'regular punctate amorphous',\n",
       "       'rodlike', 'rodlike round', 'rodlike round regular', 'round',\n",
       "       'round regular', 'round regular lucent', 'round regular pleomorphic',\n",
       "       'round regular punctate', 'skin', 'vascular', 'vascular coarse',\n",
       "       'vascular coarse lucent'],\n",
       "      dtype='object')"
      ]
     },
     "execution_count": 33,
     "metadata": {},
     "output_type": "execute_result"
    }
   ],
   "source": [
    "train_df_3.columns"
   ]
  },
  {
   "cell_type": "code",
   "execution_count": null,
   "metadata": {},
   "outputs": [],
   "source": []
  },
  {
   "cell_type": "code",
   "execution_count": null,
   "metadata": {},
   "outputs": [],
   "source": []
  },
  {
   "cell_type": "code",
   "execution_count": 34,
   "metadata": {},
   "outputs": [],
   "source": [
    "X = train_df_3.drop(columns = ['pathology'])\n",
    "y = train_df_3['pathology']"
   ]
  },
  {
   "cell_type": "code",
   "execution_count": 35,
   "metadata": {},
   "outputs": [],
   "source": [
    "# Split data 90 : 10\n",
    "X_train, X_test, y_train, y_test = train_test_split(X.values, y.values, test_size = 0.1, random_state = 42)"
   ]
  },
  {
   "cell_type": "code",
   "execution_count": null,
   "metadata": {},
   "outputs": [],
   "source": []
  },
  {
   "cell_type": "code",
   "execution_count": 36,
   "metadata": {},
   "outputs": [
    {
     "name": "stdout",
     "output_type": "stream",
     "text": [
      "Mean accuracy : 0.71 Std accuracy: 0.03\n",
      "confusion matrix  [[54 18]\n",
      " [20 49]]\n",
      "Mean accuracy : 0.71 Std accuracy: 0.02\n",
      "confusion matrix  [[63  9]\n",
      " [39 30]]\n",
      "Mean accuracy : 0.71 Std accuracy: 0.02\n",
      "confusion matrix  [[62 10]\n",
      " [28 41]]\n",
      "Mean accuracy : 0.72 Std accuracy: 0.01\n",
      "confusion matrix  [[60 12]\n",
      " [23 46]]\n",
      "Mean accuracy : 0.72 Std accuracy: 0.02\n",
      "confusion matrix  [[59 13]\n",
      " [25 44]]\n",
      "Mean accuracy : 0.71 Std accuracy: 0.02\n",
      "confusion matrix  [[58 14]\n",
      " [25 44]]\n",
      "Mean accuracy : 0.71 Std accuracy: 0.01\n",
      "confusion matrix  [[59 13]\n",
      " [25 44]]\n",
      "Mean accuracy : 0.7 Std accuracy: 0.0\n",
      "confusion matrix  [[57 15]\n",
      " [23 46]]\n",
      "Mean accuracy : 0.69 Std accuracy: 0.01\n",
      "confusion matrix  [[57 15]\n",
      " [26 43]]\n"
     ]
    }
   ],
   "source": [
    "def model_selection(X, y, xt, yt):\n",
    "    for k in [1,2,4,6,8,10,20, 30, 40]:\n",
    "        mod = KNeighborsClassifier(n_neighbors= k)\n",
    "        scores = cross_val_score(mod, X,y, cv = 5, scoring = 'accuracy')\n",
    "        mod = mod.fit(X,y)\n",
    "        y_pred = mod.predict(xt)\n",
    "        \n",
    "        print('Mean accuracy :', round(np.mean(scores),2), 'Std accuracy:', round(np.std(scores),2))\n",
    "        print('confusion matrix ', confusion_matrix(yt, y_pred))\n",
    "        \n",
    "model_selection(X_train, y_train, X_test, y_test)"
   ]
  },
  {
   "cell_type": "code",
   "execution_count": 37,
   "metadata": {},
   "outputs": [
    {
     "name": "stdout",
     "output_type": "stream",
     "text": [
      "Mean accuracy : 0.53 Std accuracy: 0.0\n",
      "confusion matrix  [[72  0]\n",
      " [69  0]]\n",
      "Mean accuracy : 0.7 Std accuracy: 0.03\n",
      "confusion matrix  [[64  8]\n",
      " [38 31]]\n",
      "Mean accuracy : 0.67 Std accuracy: 0.03\n",
      "confusion matrix  [[58 14]\n",
      " [29 40]]\n",
      "Mean accuracy : 0.67 Std accuracy: 0.04\n",
      "confusion matrix  [[56 16]\n",
      " [28 41]]\n",
      "Mean accuracy : 0.66 Std accuracy: 0.04\n",
      "confusion matrix  [[54 18]\n",
      " [28 41]]\n",
      "Mean accuracy : 0.67 Std accuracy: 0.03\n",
      "confusion matrix  [[54 18]\n",
      " [28 41]]\n",
      "Mean accuracy : 0.67 Std accuracy: 0.03\n",
      "confusion matrix  [[53 19]\n",
      " [28 41]]\n"
     ]
    }
   ],
   "source": [
    "def model_selection(X, y, xt, yt):\n",
    "    for c in [0.0001, 0.01, 0.1, 1, 10, 100,1000]:\n",
    "        mod = LogisticRegression(C = c, solver = 'lbfgs', max_iter = 1000)\n",
    "        scores = cross_val_score(mod, X,y, cv = 5, scoring = 'accuracy')\n",
    "        mod = mod.fit(X,y)\n",
    "        y_pred = mod.predict(xt)\n",
    "        \n",
    "        print('Mean accuracy :', round(np.mean(scores),2), 'Std accuracy:', round(np.std(scores),2))\n",
    "        print('confusion matrix ', confusion_matrix(yt, y_pred))\n",
    "        \n",
    "model_selection(X_train, y_train, X_test, y_test)"
   ]
  },
  {
   "cell_type": "code",
   "execution_count": 38,
   "metadata": {},
   "outputs": [
    {
     "data": {
      "text/plain": [
       "array([[58, 14],\n",
       "       [29, 40]])"
      ]
     },
     "execution_count": 38,
     "metadata": {},
     "output_type": "execute_result"
    }
   ],
   "source": [
    "mod = LogisticRegression(C = .100, solver = 'lbfgs', max_iter = 1000)\n",
    "mod = mod.fit(X_train, y_train)\n",
    "y_pred = mod.predict(X_test)\n",
    "confusion_matrix(y_test, y_pred)"
   ]
  },
  {
   "cell_type": "code",
   "execution_count": 39,
   "metadata": {},
   "outputs": [],
   "source": [
    "## extract coefficients\n",
    "values_log = pd.DataFrame(mod.coef_[0], columns = ['coefs'])\n",
    "values_log['Features'] = X.columns"
   ]
  },
  {
   "cell_type": "code",
   "execution_count": 40,
   "metadata": {},
   "outputs": [
    {
     "name": "stdout",
     "output_type": "stream",
     "text": [
      "Top Features that dictate data job title positively\n",
      "------------------------------------------\n"
     ]
    },
    {
     "data": {
      "text/html": [
       "<div>\n",
       "<style scoped>\n",
       "    .dataframe tbody tr th:only-of-type {\n",
       "        vertical-align: middle;\n",
       "    }\n",
       "\n",
       "    .dataframe tbody tr th {\n",
       "        vertical-align: top;\n",
       "    }\n",
       "\n",
       "    .dataframe thead th {\n",
       "        text-align: right;\n",
       "    }\n",
       "</style>\n",
       "<table border=\"1\" class=\"dataframe\">\n",
       "  <thead>\n",
       "    <tr style=\"text-align: right;\">\n",
       "      <th></th>\n",
       "      <th>coefs</th>\n",
       "      <th>Features</th>\n",
       "    </tr>\n",
       "  </thead>\n",
       "  <tbody>\n",
       "    <tr>\n",
       "      <th>51</th>\n",
       "      <td>0.644515</td>\n",
       "      <td>pleomorphic</td>\n",
       "    </tr>\n",
       "    <tr>\n",
       "      <th>1</th>\n",
       "      <td>0.310801</td>\n",
       "      <td>assessment</td>\n",
       "    </tr>\n",
       "    <tr>\n",
       "      <th>21</th>\n",
       "      <td>0.300982</td>\n",
       "      <td>branching</td>\n",
       "    </tr>\n",
       "    <tr>\n",
       "      <th>37</th>\n",
       "      <td>0.300982</td>\n",
       "      <td>fine linear branching</td>\n",
       "    </tr>\n",
       "    <tr>\n",
       "      <th>41</th>\n",
       "      <td>0.300982</td>\n",
       "      <td>linear</td>\n",
       "    </tr>\n",
       "    <tr>\n",
       "      <th>35</th>\n",
       "      <td>0.300982</td>\n",
       "      <td>fine</td>\n",
       "    </tr>\n",
       "    <tr>\n",
       "      <th>42</th>\n",
       "      <td>0.300982</td>\n",
       "      <td>linear branching</td>\n",
       "    </tr>\n",
       "    <tr>\n",
       "      <th>36</th>\n",
       "      <td>0.300982</td>\n",
       "      <td>fine linear</td>\n",
       "    </tr>\n",
       "    <tr>\n",
       "      <th>8</th>\n",
       "      <td>0.291303</td>\n",
       "      <td>linear</td>\n",
       "    </tr>\n",
       "    <tr>\n",
       "      <th>59</th>\n",
       "      <td>0.265796</td>\n",
       "      <td>punctate fine</td>\n",
       "    </tr>\n",
       "  </tbody>\n",
       "</table>\n",
       "</div>"
      ],
      "text/plain": [
       "       coefs               Features\n",
       "51  0.644515            pleomorphic\n",
       "1   0.310801             assessment\n",
       "21  0.300982              branching\n",
       "37  0.300982  fine linear branching\n",
       "41  0.300982                 linear\n",
       "35  0.300982                   fine\n",
       "42  0.300982       linear branching\n",
       "36  0.300982            fine linear\n",
       "8   0.291303                 linear\n",
       "59  0.265796          punctate fine"
      ]
     },
     "execution_count": 40,
     "metadata": {},
     "output_type": "execute_result"
    }
   ],
   "source": [
    "print('Top Features that dictate data job title positively')\n",
    "print('------------------------------------------')\n",
    "values_log.sort_values(by = 'coefs', ascending = False).head(10)"
   ]
  },
  {
   "cell_type": "code",
   "execution_count": null,
   "metadata": {},
   "outputs": [],
   "source": []
  },
  {
   "cell_type": "code",
   "execution_count": 93,
   "metadata": {},
   "outputs": [
    {
     "name": "stdout",
     "output_type": "stream",
     "text": [
      "Mean accuracy : 1.0 Std accuracy: 0.0\n",
      "confusion matrix  [[ 12   2]\n",
      " [  0 127]]\n"
     ]
    }
   ],
   "source": [
    "\n",
    "for c in [100]:\n",
    "    clf = AdaBoostClassifier(base_estimator = DecisionTreeClassifier(max_depth = 20), learning_rate = 0.00001, n_estimators=c, random_state=42)\n",
    "    scores = cross_val_score(clf, X_train,y_train, cv = 3, scoring = 'accuracy')\n",
    "    clf = clf.fit(X_train,y_train)\n",
    "    y_pred = clf.predict(X_test)\n",
    "        \n",
    "    print('Mean accuracy :', round(np.mean(scores),2), 'Std accuracy:', round(np.std(scores),2))\n",
    "    print('confusion matrix ', confusion_matrix(y_test, y_pred))\n",
    "\n"
   ]
  },
  {
   "cell_type": "code",
   "execution_count": 94,
   "metadata": {},
   "outputs": [
    {
     "data": {
      "text/plain": [
       "array([4.081099e-02, 7.691669e-01, 3.546505e-02, 1.119951e-04, ..., 0.000000e+00, 0.000000e+00, 0.000000e+00,\n",
       "       0.000000e+00])"
      ]
     },
     "execution_count": 94,
     "metadata": {},
     "output_type": "execute_result"
    }
   ],
   "source": [
    "clf.feature_importances_"
   ]
  },
  {
   "cell_type": "code",
   "execution_count": 95,
   "metadata": {},
   "outputs": [],
   "source": [
    "## extract coefficients\n",
    "values_log = pd.DataFrame(clf.feature_importances_, columns = ['feature_importances'])\n",
    "values_log['Features'] = X.columns"
   ]
  },
  {
   "cell_type": "code",
   "execution_count": 96,
   "metadata": {},
   "outputs": [
    {
     "name": "stdout",
     "output_type": "stream",
     "text": [
      "Top Features that dictate data job title positively\n",
      "------------------------------------------\n"
     ]
    },
    {
     "data": {
      "text/html": [
       "<div>\n",
       "<style scoped>\n",
       "    .dataframe tbody tr th:only-of-type {\n",
       "        vertical-align: middle;\n",
       "    }\n",
       "\n",
       "    .dataframe tbody tr th {\n",
       "        vertical-align: top;\n",
       "    }\n",
       "\n",
       "    .dataframe thead th {\n",
       "        text-align: right;\n",
       "    }\n",
       "</style>\n",
       "<table border=\"1\" class=\"dataframe\">\n",
       "  <thead>\n",
       "    <tr style=\"text-align: right;\">\n",
       "      <th></th>\n",
       "      <th>feature_importances</th>\n",
       "      <th>Features</th>\n",
       "    </tr>\n",
       "  </thead>\n",
       "  <tbody>\n",
       "    <tr>\n",
       "      <th>1</th>\n",
       "      <td>0.769167</td>\n",
       "      <td>assessment</td>\n",
       "    </tr>\n",
       "    <tr>\n",
       "      <th>17</th>\n",
       "      <td>0.042575</td>\n",
       "      <td>amorphous</td>\n",
       "    </tr>\n",
       "    <tr>\n",
       "      <th>0</th>\n",
       "      <td>0.040811</td>\n",
       "      <td>breast density</td>\n",
       "    </tr>\n",
       "    <tr>\n",
       "      <th>2</th>\n",
       "      <td>0.035465</td>\n",
       "      <td>subtlety</td>\n",
       "    </tr>\n",
       "    <tr>\n",
       "      <th>6</th>\n",
       "      <td>0.016604</td>\n",
       "      <td>diffusely</td>\n",
       "    </tr>\n",
       "    <tr>\n",
       "      <th>7</th>\n",
       "      <td>0.015707</td>\n",
       "      <td>diffusely scattered</td>\n",
       "    </tr>\n",
       "    <tr>\n",
       "      <th>33</th>\n",
       "      <td>0.014406</td>\n",
       "      <td>dystrophic</td>\n",
       "    </tr>\n",
       "    <tr>\n",
       "      <th>12</th>\n",
       "      <td>0.012565</td>\n",
       "      <td>scattered</td>\n",
       "    </tr>\n",
       "    <tr>\n",
       "      <th>13</th>\n",
       "      <td>0.011330</td>\n",
       "      <td>segmental</td>\n",
       "    </tr>\n",
       "    <tr>\n",
       "      <th>14</th>\n",
       "      <td>0.007042</td>\n",
       "      <td>macro</td>\n",
       "    </tr>\n",
       "  </tbody>\n",
       "</table>\n",
       "</div>"
      ],
      "text/plain": [
       "    feature_importances             Features\n",
       "1              0.769167           assessment\n",
       "17             0.042575            amorphous\n",
       "0              0.040811       breast density\n",
       "2              0.035465             subtlety\n",
       "6              0.016604            diffusely\n",
       "7              0.015707  diffusely scattered\n",
       "33             0.014406           dystrophic\n",
       "12             0.012565            scattered\n",
       "13             0.011330            segmental\n",
       "14             0.007042                macro"
      ]
     },
     "execution_count": 96,
     "metadata": {},
     "output_type": "execute_result"
    }
   ],
   "source": [
    "print('Top Features that dictate data job title positively')\n",
    "print('------------------------------------------')\n",
    "values_log.sort_values(by = 'feature_importances', ascending = False).head(10)"
   ]
  },
  {
   "cell_type": "code",
   "execution_count": null,
   "metadata": {},
   "outputs": [],
   "source": []
  },
  {
   "cell_type": "code",
   "execution_count": 41,
   "metadata": {},
   "outputs": [],
   "source": [
    "import xgboost as xgb\n",
    "from xgboost.sklearn import XGBClassifier"
   ]
  },
  {
   "cell_type": "code",
   "execution_count": 42,
   "metadata": {},
   "outputs": [
    {
     "name": "stderr",
     "output_type": "stream",
     "text": [
      "/anaconda3/lib/python3.7/site-packages/sklearn/model_selection/_search.py:762: DeprecationWarning: The grid_scores_ attribute was deprecated in version 0.18 in favor of the more elaborate cv_results_ attribute. The grid_scores_ attribute will not be available from 0.20\n",
      "  DeprecationWarning)\n"
     ]
    },
    {
     "data": {
      "text/plain": [
       "([mean: 0.83389, std: 0.01863, params: {'n_estimators': 10},\n",
       "  mean: 0.84132, std: 0.01108, params: {'n_estimators': 50},\n",
       "  mean: 0.84307, std: 0.01019, params: {'n_estimators': 100},\n",
       "  mean: 0.84013, std: 0.01550, params: {'n_estimators': 20},\n",
       "  mean: 0.84317, std: 0.01232, params: {'n_estimators': 300},\n",
       "  mean: 0.83788, std: 0.01248, params: {'n_estimators': 500},\n",
       "  mean: 0.83104, std: 0.01528, params: {'n_estimators': 1000}],\n",
       " {'n_estimators': 300},\n",
       " 0.8431732032417383)"
      ]
     },
     "execution_count": 42,
     "metadata": {},
     "output_type": "execute_result"
    }
   ],
   "source": [
    "param_test1 = {\n",
    "   'n_estimators' : [10,50,100,20,300,500,1000]\n",
    "}\n",
    "\n",
    "gsearch1 = GridSearchCV(estimator = XGBClassifier(learning_rate =0.1, n_estimators=300, max_depth=9,\n",
    " min_child_weight=1, gamma=0, subsample=0.9, colsample_bytree=0.9,\n",
    " objective= 'binary:logistic', nthread=4, scale_pos_weight=1, seed=27, res_alpha = 1e-05), \n",
    " param_grid = param_test1, scoring='average_precision',n_jobs=4,iid=False, cv=5)\n",
    "\n",
    "gsearch1.fit(X_train, y_train)\n",
    "gsearch1.grid_scores_, gsearch1.best_params_, gsearch1.best_score_"
   ]
  },
  {
   "cell_type": "code",
   "execution_count": 43,
   "metadata": {},
   "outputs": [
    {
     "name": "stderr",
     "output_type": "stream",
     "text": [
      "/anaconda3/lib/python3.7/site-packages/sklearn/preprocessing/label.py:151: DeprecationWarning: The truth value of an empty array is ambiguous. Returning False, but in future this will result in an error. Use `array.size > 0` to check that an array is not empty.\n",
      "  if diff:\n"
     ]
    },
    {
     "data": {
      "text/plain": [
       "array([[58, 14],\n",
       "       [14, 55]])"
      ]
     },
     "execution_count": 43,
     "metadata": {},
     "output_type": "execute_result"
    }
   ],
   "source": [
    "xgb = XGBClassifier(learning_rate =0.1, n_estimators=300, max_depth=9,\n",
    " min_child_weight=1, gamma=0, subsample=0.9, colsample_bytree=0.9,\n",
    " objective= 'binary:logistic', nthread=4, scale_pos_weight=1, seed=27, res_alpha = 1e-05)\n",
    "\n",
    "xgb = xgb.fit(X_train, y_train)\n",
    "\n",
    "y_pred =xgb.predict(X_test)\n",
    "confusion_matrix(y_test, y_pred)\n"
   ]
  },
  {
   "cell_type": "code",
   "execution_count": 44,
   "metadata": {},
   "outputs": [
    {
     "data": {
      "text/plain": [
       "array([0.017177, 0.09508 , 0.020413, 0.023464, ..., 0.      , 0.058486, 0.      , 0.      ], dtype=float32)"
      ]
     },
     "execution_count": 44,
     "metadata": {},
     "output_type": "execute_result"
    }
   ],
   "source": [
    "xgb.feature_importances_\n"
   ]
  },
  {
   "cell_type": "code",
   "execution_count": 45,
   "metadata": {},
   "outputs": [],
   "source": [
    "## extract coefficients\n",
    "values_log = pd.DataFrame(xgb.feature_importances_, columns = ['feature_importances'])\n",
    "values_log['Features'] = X.columns"
   ]
  },
  {
   "cell_type": "code",
   "execution_count": 46,
   "metadata": {},
   "outputs": [
    {
     "name": "stdout",
     "output_type": "stream",
     "text": [
      "Top Features that dictate data job title positively\n",
      "------------------------------------------\n"
     ]
    },
    {
     "data": {
      "text/html": [
       "<div>\n",
       "<style scoped>\n",
       "    .dataframe tbody tr th:only-of-type {\n",
       "        vertical-align: middle;\n",
       "    }\n",
       "\n",
       "    .dataframe tbody tr th {\n",
       "        vertical-align: top;\n",
       "    }\n",
       "\n",
       "    .dataframe thead th {\n",
       "        text-align: right;\n",
       "    }\n",
       "</style>\n",
       "<table border=\"1\" class=\"dataframe\">\n",
       "  <thead>\n",
       "    <tr style=\"text-align: right;\">\n",
       "      <th></th>\n",
       "      <th>feature_importances</th>\n",
       "      <th>Features</th>\n",
       "    </tr>\n",
       "  </thead>\n",
       "  <tbody>\n",
       "    <tr>\n",
       "      <th>1</th>\n",
       "      <td>0.095080</td>\n",
       "      <td>assessment</td>\n",
       "    </tr>\n",
       "    <tr>\n",
       "      <th>35</th>\n",
       "      <td>0.088914</td>\n",
       "      <td>fine</td>\n",
       "    </tr>\n",
       "    <tr>\n",
       "      <th>5</th>\n",
       "      <td>0.072438</td>\n",
       "      <td>clustered segmental</td>\n",
       "    </tr>\n",
       "    <tr>\n",
       "      <th>78</th>\n",
       "      <td>0.059723</td>\n",
       "      <td>round regular pleomorphic</td>\n",
       "    </tr>\n",
       "    <tr>\n",
       "      <th>21</th>\n",
       "      <td>0.058668</td>\n",
       "      <td>branching</td>\n",
       "    </tr>\n",
       "    <tr>\n",
       "      <th>66</th>\n",
       "      <td>0.058633</td>\n",
       "      <td>regular</td>\n",
       "    </tr>\n",
       "    <tr>\n",
       "      <th>81</th>\n",
       "      <td>0.058486</td>\n",
       "      <td>vascular</td>\n",
       "    </tr>\n",
       "    <tr>\n",
       "      <th>69</th>\n",
       "      <td>0.054747</td>\n",
       "      <td>regular pleomorphic</td>\n",
       "    </tr>\n",
       "    <tr>\n",
       "      <th>33</th>\n",
       "      <td>0.047382</td>\n",
       "      <td>dystrophic</td>\n",
       "    </tr>\n",
       "    <tr>\n",
       "      <th>8</th>\n",
       "      <td>0.036791</td>\n",
       "      <td>linear</td>\n",
       "    </tr>\n",
       "  </tbody>\n",
       "</table>\n",
       "</div>"
      ],
      "text/plain": [
       "    feature_importances                   Features\n",
       "1              0.095080                 assessment\n",
       "35             0.088914                       fine\n",
       "5              0.072438        clustered segmental\n",
       "78             0.059723  round regular pleomorphic\n",
       "21             0.058668                  branching\n",
       "66             0.058633                    regular\n",
       "81             0.058486                   vascular\n",
       "69             0.054747        regular pleomorphic\n",
       "33             0.047382                 dystrophic\n",
       "8              0.036791                     linear"
      ]
     },
     "execution_count": 46,
     "metadata": {},
     "output_type": "execute_result"
    }
   ],
   "source": [
    "print('Top Features that dictate data job title positively')\n",
    "print('------------------------------------------')\n",
    "values_log.sort_values(by = 'feature_importances', ascending = False).head(10)"
   ]
  },
  {
   "cell_type": "code",
   "execution_count": 48,
   "metadata": {},
   "outputs": [
    {
     "data": {
      "text/plain": [
       "0.7971014492753623"
      ]
     },
     "execution_count": 48,
     "metadata": {},
     "output_type": "execute_result"
    }
   ],
   "source": [
    "from sklearn.metrics import precision_score\n",
    "precision_score(y_test, y_pred)"
   ]
  }
 ],
 "metadata": {
  "kernelspec": {
   "display_name": "Python 3",
   "language": "python",
   "name": "python3"
  },
  "language_info": {
   "codemirror_mode": {
    "name": "ipython",
    "version": 3
   },
   "file_extension": ".py",
   "mimetype": "text/x-python",
   "name": "python",
   "nbconvert_exporter": "python",
   "pygments_lexer": "ipython3",
   "version": "3.7.3"
  }
 },
 "nbformat": 4,
 "nbformat_minor": 2
}
